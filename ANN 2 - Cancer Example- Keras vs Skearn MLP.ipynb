{
 "cells": [
  {
   "cell_type": "code",
   "execution_count": 5,
   "metadata": {},
   "outputs": [],
   "source": [
    "from sklearn.datasets import load_breast_cancer\n",
    "import pandas as pd\n",
    "import numpy as np"
   ]
  },
  {
   "cell_type": "code",
   "execution_count": 6,
   "metadata": {},
   "outputs": [],
   "source": [
    "data = load_breast_cancer()"
   ]
  },
  {
   "cell_type": "code",
   "execution_count": 10,
   "metadata": {},
   "outputs": [],
   "source": [
    "df = pd.DataFrame(data = data[\"data\"], columns=data[\"feature_names\"])\n",
    "y= data[\"target\"]"
   ]
  },
  {
   "cell_type": "code",
   "execution_count": 11,
   "metadata": {},
   "outputs": [
    {
     "data": {
      "text/html": [
       "<div>\n",
       "<style scoped>\n",
       "    .dataframe tbody tr th:only-of-type {\n",
       "        vertical-align: middle;\n",
       "    }\n",
       "\n",
       "    .dataframe tbody tr th {\n",
       "        vertical-align: top;\n",
       "    }\n",
       "\n",
       "    .dataframe thead th {\n",
       "        text-align: right;\n",
       "    }\n",
       "</style>\n",
       "<table border=\"1\" class=\"dataframe\">\n",
       "  <thead>\n",
       "    <tr style=\"text-align: right;\">\n",
       "      <th></th>\n",
       "      <th>mean radius</th>\n",
       "      <th>mean texture</th>\n",
       "      <th>mean perimeter</th>\n",
       "      <th>mean area</th>\n",
       "      <th>mean smoothness</th>\n",
       "      <th>mean compactness</th>\n",
       "      <th>mean concavity</th>\n",
       "      <th>mean concave points</th>\n",
       "      <th>mean symmetry</th>\n",
       "      <th>mean fractal dimension</th>\n",
       "      <th>...</th>\n",
       "      <th>worst radius</th>\n",
       "      <th>worst texture</th>\n",
       "      <th>worst perimeter</th>\n",
       "      <th>worst area</th>\n",
       "      <th>worst smoothness</th>\n",
       "      <th>worst compactness</th>\n",
       "      <th>worst concavity</th>\n",
       "      <th>worst concave points</th>\n",
       "      <th>worst symmetry</th>\n",
       "      <th>worst fractal dimension</th>\n",
       "    </tr>\n",
       "  </thead>\n",
       "  <tbody>\n",
       "    <tr>\n",
       "      <th>0</th>\n",
       "      <td>17.99</td>\n",
       "      <td>10.38</td>\n",
       "      <td>122.80</td>\n",
       "      <td>1001.0</td>\n",
       "      <td>0.11840</td>\n",
       "      <td>0.27760</td>\n",
       "      <td>0.3001</td>\n",
       "      <td>0.14710</td>\n",
       "      <td>0.2419</td>\n",
       "      <td>0.07871</td>\n",
       "      <td>...</td>\n",
       "      <td>25.38</td>\n",
       "      <td>17.33</td>\n",
       "      <td>184.60</td>\n",
       "      <td>2019.0</td>\n",
       "      <td>0.1622</td>\n",
       "      <td>0.6656</td>\n",
       "      <td>0.7119</td>\n",
       "      <td>0.2654</td>\n",
       "      <td>0.4601</td>\n",
       "      <td>0.11890</td>\n",
       "    </tr>\n",
       "    <tr>\n",
       "      <th>1</th>\n",
       "      <td>20.57</td>\n",
       "      <td>17.77</td>\n",
       "      <td>132.90</td>\n",
       "      <td>1326.0</td>\n",
       "      <td>0.08474</td>\n",
       "      <td>0.07864</td>\n",
       "      <td>0.0869</td>\n",
       "      <td>0.07017</td>\n",
       "      <td>0.1812</td>\n",
       "      <td>0.05667</td>\n",
       "      <td>...</td>\n",
       "      <td>24.99</td>\n",
       "      <td>23.41</td>\n",
       "      <td>158.80</td>\n",
       "      <td>1956.0</td>\n",
       "      <td>0.1238</td>\n",
       "      <td>0.1866</td>\n",
       "      <td>0.2416</td>\n",
       "      <td>0.1860</td>\n",
       "      <td>0.2750</td>\n",
       "      <td>0.08902</td>\n",
       "    </tr>\n",
       "    <tr>\n",
       "      <th>2</th>\n",
       "      <td>19.69</td>\n",
       "      <td>21.25</td>\n",
       "      <td>130.00</td>\n",
       "      <td>1203.0</td>\n",
       "      <td>0.10960</td>\n",
       "      <td>0.15990</td>\n",
       "      <td>0.1974</td>\n",
       "      <td>0.12790</td>\n",
       "      <td>0.2069</td>\n",
       "      <td>0.05999</td>\n",
       "      <td>...</td>\n",
       "      <td>23.57</td>\n",
       "      <td>25.53</td>\n",
       "      <td>152.50</td>\n",
       "      <td>1709.0</td>\n",
       "      <td>0.1444</td>\n",
       "      <td>0.4245</td>\n",
       "      <td>0.4504</td>\n",
       "      <td>0.2430</td>\n",
       "      <td>0.3613</td>\n",
       "      <td>0.08758</td>\n",
       "    </tr>\n",
       "    <tr>\n",
       "      <th>3</th>\n",
       "      <td>11.42</td>\n",
       "      <td>20.38</td>\n",
       "      <td>77.58</td>\n",
       "      <td>386.1</td>\n",
       "      <td>0.14250</td>\n",
       "      <td>0.28390</td>\n",
       "      <td>0.2414</td>\n",
       "      <td>0.10520</td>\n",
       "      <td>0.2597</td>\n",
       "      <td>0.09744</td>\n",
       "      <td>...</td>\n",
       "      <td>14.91</td>\n",
       "      <td>26.50</td>\n",
       "      <td>98.87</td>\n",
       "      <td>567.7</td>\n",
       "      <td>0.2098</td>\n",
       "      <td>0.8663</td>\n",
       "      <td>0.6869</td>\n",
       "      <td>0.2575</td>\n",
       "      <td>0.6638</td>\n",
       "      <td>0.17300</td>\n",
       "    </tr>\n",
       "    <tr>\n",
       "      <th>4</th>\n",
       "      <td>20.29</td>\n",
       "      <td>14.34</td>\n",
       "      <td>135.10</td>\n",
       "      <td>1297.0</td>\n",
       "      <td>0.10030</td>\n",
       "      <td>0.13280</td>\n",
       "      <td>0.1980</td>\n",
       "      <td>0.10430</td>\n",
       "      <td>0.1809</td>\n",
       "      <td>0.05883</td>\n",
       "      <td>...</td>\n",
       "      <td>22.54</td>\n",
       "      <td>16.67</td>\n",
       "      <td>152.20</td>\n",
       "      <td>1575.0</td>\n",
       "      <td>0.1374</td>\n",
       "      <td>0.2050</td>\n",
       "      <td>0.4000</td>\n",
       "      <td>0.1625</td>\n",
       "      <td>0.2364</td>\n",
       "      <td>0.07678</td>\n",
       "    </tr>\n",
       "  </tbody>\n",
       "</table>\n",
       "<p>5 rows × 30 columns</p>\n",
       "</div>"
      ],
      "text/plain": [
       "   mean radius  mean texture  mean perimeter  mean area  mean smoothness  \\\n",
       "0        17.99         10.38          122.80     1001.0          0.11840   \n",
       "1        20.57         17.77          132.90     1326.0          0.08474   \n",
       "2        19.69         21.25          130.00     1203.0          0.10960   \n",
       "3        11.42         20.38           77.58      386.1          0.14250   \n",
       "4        20.29         14.34          135.10     1297.0          0.10030   \n",
       "\n",
       "   mean compactness  mean concavity  mean concave points  mean symmetry  \\\n",
       "0           0.27760          0.3001              0.14710         0.2419   \n",
       "1           0.07864          0.0869              0.07017         0.1812   \n",
       "2           0.15990          0.1974              0.12790         0.2069   \n",
       "3           0.28390          0.2414              0.10520         0.2597   \n",
       "4           0.13280          0.1980              0.10430         0.1809   \n",
       "\n",
       "   mean fractal dimension  ...  worst radius  worst texture  worst perimeter  \\\n",
       "0                 0.07871  ...         25.38          17.33           184.60   \n",
       "1                 0.05667  ...         24.99          23.41           158.80   \n",
       "2                 0.05999  ...         23.57          25.53           152.50   \n",
       "3                 0.09744  ...         14.91          26.50            98.87   \n",
       "4                 0.05883  ...         22.54          16.67           152.20   \n",
       "\n",
       "   worst area  worst smoothness  worst compactness  worst concavity  \\\n",
       "0      2019.0            0.1622             0.6656           0.7119   \n",
       "1      1956.0            0.1238             0.1866           0.2416   \n",
       "2      1709.0            0.1444             0.4245           0.4504   \n",
       "3       567.7            0.2098             0.8663           0.6869   \n",
       "4      1575.0            0.1374             0.2050           0.4000   \n",
       "\n",
       "   worst concave points  worst symmetry  worst fractal dimension  \n",
       "0                0.2654          0.4601                  0.11890  \n",
       "1                0.1860          0.2750                  0.08902  \n",
       "2                0.2430          0.3613                  0.08758  \n",
       "3                0.2575          0.6638                  0.17300  \n",
       "4                0.1625          0.2364                  0.07678  \n",
       "\n",
       "[5 rows x 30 columns]"
      ]
     },
     "execution_count": 11,
     "metadata": {},
     "output_type": "execute_result"
    }
   ],
   "source": [
    "df.head()"
   ]
  },
  {
   "cell_type": "code",
   "execution_count": 28,
   "metadata": {},
   "outputs": [
    {
     "data": {
      "text/plain": [
       "(569, 30)"
      ]
     },
     "execution_count": 28,
     "metadata": {},
     "output_type": "execute_result"
    }
   ],
   "source": [
    "df.shape"
   ]
  },
  {
   "cell_type": "code",
   "execution_count": 12,
   "metadata": {},
   "outputs": [
    {
     "name": "stdout",
     "output_type": "stream",
     "text": [
      "<class 'pandas.core.frame.DataFrame'>\n",
      "RangeIndex: 569 entries, 0 to 568\n",
      "Data columns (total 30 columns):\n",
      " #   Column                   Non-Null Count  Dtype  \n",
      "---  ------                   --------------  -----  \n",
      " 0   mean radius              569 non-null    float64\n",
      " 1   mean texture             569 non-null    float64\n",
      " 2   mean perimeter           569 non-null    float64\n",
      " 3   mean area                569 non-null    float64\n",
      " 4   mean smoothness          569 non-null    float64\n",
      " 5   mean compactness         569 non-null    float64\n",
      " 6   mean concavity           569 non-null    float64\n",
      " 7   mean concave points      569 non-null    float64\n",
      " 8   mean symmetry            569 non-null    float64\n",
      " 9   mean fractal dimension   569 non-null    float64\n",
      " 10  radius error             569 non-null    float64\n",
      " 11  texture error            569 non-null    float64\n",
      " 12  perimeter error          569 non-null    float64\n",
      " 13  area error               569 non-null    float64\n",
      " 14  smoothness error         569 non-null    float64\n",
      " 15  compactness error        569 non-null    float64\n",
      " 16  concavity error          569 non-null    float64\n",
      " 17  concave points error     569 non-null    float64\n",
      " 18  symmetry error           569 non-null    float64\n",
      " 19  fractal dimension error  569 non-null    float64\n",
      " 20  worst radius             569 non-null    float64\n",
      " 21  worst texture            569 non-null    float64\n",
      " 22  worst perimeter          569 non-null    float64\n",
      " 23  worst area               569 non-null    float64\n",
      " 24  worst smoothness         569 non-null    float64\n",
      " 25  worst compactness        569 non-null    float64\n",
      " 26  worst concavity          569 non-null    float64\n",
      " 27  worst concave points     569 non-null    float64\n",
      " 28  worst symmetry           569 non-null    float64\n",
      " 29  worst fractal dimension  569 non-null    float64\n",
      "dtypes: float64(30)\n",
      "memory usage: 133.5 KB\n"
     ]
    }
   ],
   "source": [
    "df.info()"
   ]
  },
  {
   "cell_type": "code",
   "execution_count": 41,
   "metadata": {},
   "outputs": [
    {
     "data": {
      "text/plain": [
       "(array([0, 1]), array([212, 357], dtype=int64))"
      ]
     },
     "execution_count": 41,
     "metadata": {},
     "output_type": "execute_result"
    }
   ],
   "source": [
    "np.unique(y, return_counts=True)"
   ]
  },
  {
   "cell_type": "markdown",
   "metadata": {},
   "source": [
    "# Train test split"
   ]
  },
  {
   "cell_type": "code",
   "execution_count": 13,
   "metadata": {},
   "outputs": [],
   "source": [
    "from sklearn.model_selection import train_test_split"
   ]
  },
  {
   "cell_type": "code",
   "execution_count": 14,
   "metadata": {},
   "outputs": [],
   "source": [
    "X_train, X_test, y_train, y_test = train_test_split(df, y, test_size=0.33, random_state=42)"
   ]
  },
  {
   "cell_type": "markdown",
   "metadata": {},
   "source": [
    "# Scaling"
   ]
  },
  {
   "cell_type": "code",
   "execution_count": 17,
   "metadata": {},
   "outputs": [],
   "source": [
    "from sklearn.preprocessing import MinMaxScaler"
   ]
  },
  {
   "cell_type": "code",
   "execution_count": 18,
   "metadata": {},
   "outputs": [],
   "source": [
    "scaler = MinMaxScaler()"
   ]
  },
  {
   "cell_type": "code",
   "execution_count": 19,
   "metadata": {},
   "outputs": [
    {
     "data": {
      "text/plain": [
       "MinMaxScaler()"
      ]
     },
     "execution_count": 19,
     "metadata": {},
     "output_type": "execute_result"
    }
   ],
   "source": [
    "scaler.fit(X_train)"
   ]
  },
  {
   "cell_type": "code",
   "execution_count": 20,
   "metadata": {},
   "outputs": [],
   "source": [
    "X_train = scaler.transform(X_train)"
   ]
  },
  {
   "cell_type": "code",
   "execution_count": 21,
   "metadata": {},
   "outputs": [],
   "source": [
    "X_test= scaler.transform(X_test)"
   ]
  },
  {
   "cell_type": "markdown",
   "metadata": {},
   "source": [
    "# Multilayer Perceptrons"
   ]
  },
  {
   "cell_type": "code",
   "execution_count": 26,
   "metadata": {},
   "outputs": [],
   "source": [
    "from tensorflow.keras.models import Sequential\n",
    "from tensorflow.keras.layers import Dense,Dropout\n",
    "from tensorflow.keras.callbacks import EarlyStopping"
   ]
  },
  {
   "cell_type": "code",
   "execution_count": 27,
   "metadata": {},
   "outputs": [],
   "source": [
    "model = Sequential()"
   ]
  },
  {
   "cell_type": "code",
   "execution_count": 43,
   "metadata": {},
   "outputs": [],
   "source": [
    "stopping = EarlyStopping(patience=15)"
   ]
  },
  {
   "cell_type": "code",
   "execution_count": 30,
   "metadata": {},
   "outputs": [],
   "source": [
    "# add layers, with a good practice of the number of neurons = no.features\n",
    "# last layer is sigmoid: 0->1 \n",
    "model.add(Dense(30,activation =\"relu\"))\n",
    "model.add(Dense(15,activation =\"relu\"))\n",
    "model.add(Dense(1,activation =\"sigmoid\"))"
   ]
  },
  {
   "cell_type": "code",
   "execution_count": 42,
   "metadata": {},
   "outputs": [],
   "source": [
    "model.compile(optimizer=\"adam\",loss =\"binary_crossentropy\",metrics=\"accuracy\" )"
   ]
  },
  {
   "cell_type": "code",
   "execution_count": 44,
   "metadata": {
    "scrolled": true
   },
   "outputs": [
    {
     "name": "stdout",
     "output_type": "stream",
     "text": [
      "Epoch 1/500\n",
      "12/12 [==============================] - 1s 16ms/step - loss: 0.6685 - accuracy: 0.4331 - val_loss: 0.6561 - val_accuracy: 0.5904\n",
      "Epoch 2/500\n",
      "12/12 [==============================] - 0s 4ms/step - loss: 0.6397 - accuracy: 0.7743 - val_loss: 0.6208 - val_accuracy: 0.8617\n",
      "Epoch 3/500\n",
      "12/12 [==============================] - 0s 4ms/step - loss: 0.6035 - accuracy: 0.8583 - val_loss: 0.5836 - val_accuracy: 0.8830\n",
      "Epoch 4/500\n",
      "12/12 [==============================] - 0s 4ms/step - loss: 0.5667 - accuracy: 0.8688 - val_loss: 0.5449 - val_accuracy: 0.8883\n",
      "Epoch 5/500\n",
      "12/12 [==============================] - 0s 4ms/step - loss: 0.5271 - accuracy: 0.8740 - val_loss: 0.5037 - val_accuracy: 0.8989\n",
      "Epoch 6/500\n",
      "12/12 [==============================] - 0s 4ms/step - loss: 0.4841 - accuracy: 0.8793 - val_loss: 0.4554 - val_accuracy: 0.9096\n",
      "Epoch 7/500\n",
      "12/12 [==============================] - 0s 4ms/step - loss: 0.4329 - accuracy: 0.8871 - val_loss: 0.4001 - val_accuracy: 0.9202\n",
      "Epoch 8/500\n",
      "12/12 [==============================] - 0s 5ms/step - loss: 0.3891 - accuracy: 0.8845 - val_loss: 0.3602 - val_accuracy: 0.9255\n",
      "Epoch 9/500\n",
      "12/12 [==============================] - 0s 4ms/step - loss: 0.3493 - accuracy: 0.9029 - val_loss: 0.3258 - val_accuracy: 0.9202\n",
      "Epoch 10/500\n",
      "12/12 [==============================] - 0s 4ms/step - loss: 0.3156 - accuracy: 0.9239 - val_loss: 0.3006 - val_accuracy: 0.9309\n",
      "Epoch 11/500\n",
      "12/12 [==============================] - 0s 4ms/step - loss: 0.2896 - accuracy: 0.9239 - val_loss: 0.2752 - val_accuracy: 0.9149\n",
      "Epoch 12/500\n",
      "12/12 [==============================] - 0s 4ms/step - loss: 0.2650 - accuracy: 0.9291 - val_loss: 0.2557 - val_accuracy: 0.9202\n",
      "Epoch 13/500\n",
      "12/12 [==============================] - 0s 5ms/step - loss: 0.2459 - accuracy: 0.9239 - val_loss: 0.2387 - val_accuracy: 0.9255\n",
      "Epoch 14/500\n",
      "12/12 [==============================] - 0s 5ms/step - loss: 0.2290 - accuracy: 0.9265 - val_loss: 0.2254 - val_accuracy: 0.9255\n",
      "Epoch 15/500\n",
      "12/12 [==============================] - 0s 4ms/step - loss: 0.2143 - accuracy: 0.9265 - val_loss: 0.2110 - val_accuracy: 0.9149\n",
      "Epoch 16/500\n",
      "12/12 [==============================] - 0s 4ms/step - loss: 0.2019 - accuracy: 0.9318 - val_loss: 0.2019 - val_accuracy: 0.9255\n",
      "Epoch 17/500\n",
      "12/12 [==============================] - 0s 4ms/step - loss: 0.1922 - accuracy: 0.9370 - val_loss: 0.1914 - val_accuracy: 0.9255\n",
      "Epoch 18/500\n",
      "12/12 [==============================] - 0s 4ms/step - loss: 0.1833 - accuracy: 0.9449 - val_loss: 0.1849 - val_accuracy: 0.9255\n",
      "Epoch 19/500\n",
      "12/12 [==============================] - 0s 4ms/step - loss: 0.1729 - accuracy: 0.9449 - val_loss: 0.1739 - val_accuracy: 0.9362\n",
      "Epoch 20/500\n",
      "12/12 [==============================] - 0s 4ms/step - loss: 0.1662 - accuracy: 0.9475 - val_loss: 0.1725 - val_accuracy: 0.9255\n",
      "Epoch 21/500\n",
      "12/12 [==============================] - 0s 5ms/step - loss: 0.1597 - accuracy: 0.9475 - val_loss: 0.1618 - val_accuracy: 0.9255\n",
      "Epoch 22/500\n",
      "12/12 [==============================] - 0s 4ms/step - loss: 0.1536 - accuracy: 0.9475 - val_loss: 0.1582 - val_accuracy: 0.9255\n",
      "Epoch 23/500\n",
      "12/12 [==============================] - 0s 4ms/step - loss: 0.1472 - accuracy: 0.9580 - val_loss: 0.1500 - val_accuracy: 0.9362\n",
      "Epoch 24/500\n",
      "12/12 [==============================] - 0s 4ms/step - loss: 0.1421 - accuracy: 0.9554 - val_loss: 0.1441 - val_accuracy: 0.9415\n",
      "Epoch 25/500\n",
      "12/12 [==============================] - 0s 4ms/step - loss: 0.1366 - accuracy: 0.9528 - val_loss: 0.1392 - val_accuracy: 0.9415\n",
      "Epoch 26/500\n",
      "12/12 [==============================] - 0s 4ms/step - loss: 0.1328 - accuracy: 0.9606 - val_loss: 0.1351 - val_accuracy: 0.9521\n",
      "Epoch 27/500\n",
      "12/12 [==============================] - 0s 4ms/step - loss: 0.1294 - accuracy: 0.9580 - val_loss: 0.1278 - val_accuracy: 0.9415\n",
      "Epoch 28/500\n",
      "12/12 [==============================] - 0s 4ms/step - loss: 0.1245 - accuracy: 0.9606 - val_loss: 0.1307 - val_accuracy: 0.9628\n",
      "Epoch 29/500\n",
      "12/12 [==============================] - 0s 4ms/step - loss: 0.1219 - accuracy: 0.9633 - val_loss: 0.1201 - val_accuracy: 0.9521\n",
      "Epoch 30/500\n",
      "12/12 [==============================] - 0s 4ms/step - loss: 0.1159 - accuracy: 0.9633 - val_loss: 0.1183 - val_accuracy: 0.9574\n",
      "Epoch 31/500\n",
      "12/12 [==============================] - 0s 4ms/step - loss: 0.1131 - accuracy: 0.9606 - val_loss: 0.1139 - val_accuracy: 0.9521\n",
      "Epoch 32/500\n",
      "12/12 [==============================] - 0s 4ms/step - loss: 0.1111 - accuracy: 0.9633 - val_loss: 0.1128 - val_accuracy: 0.9628\n",
      "Epoch 33/500\n",
      "12/12 [==============================] - 0s 4ms/step - loss: 0.1066 - accuracy: 0.9633 - val_loss: 0.1086 - val_accuracy: 0.9628\n",
      "Epoch 34/500\n",
      "12/12 [==============================] - 0s 4ms/step - loss: 0.1032 - accuracy: 0.9659 - val_loss: 0.1048 - val_accuracy: 0.9628\n",
      "Epoch 35/500\n",
      "12/12 [==============================] - 0s 4ms/step - loss: 0.1019 - accuracy: 0.9685 - val_loss: 0.1027 - val_accuracy: 0.9628\n",
      "Epoch 36/500\n",
      "12/12 [==============================] - 0s 5ms/step - loss: 0.0988 - accuracy: 0.9659 - val_loss: 0.0997 - val_accuracy: 0.9628\n",
      "Epoch 37/500\n",
      "12/12 [==============================] - 0s 4ms/step - loss: 0.0964 - accuracy: 0.9738 - val_loss: 0.0978 - val_accuracy: 0.9628\n",
      "Epoch 38/500\n",
      "12/12 [==============================] - 0s 4ms/step - loss: 0.0938 - accuracy: 0.9764 - val_loss: 0.0974 - val_accuracy: 0.9681\n",
      "Epoch 39/500\n",
      "12/12 [==============================] - 0s 4ms/step - loss: 0.0917 - accuracy: 0.9816 - val_loss: 0.0909 - val_accuracy: 0.9734\n",
      "Epoch 40/500\n",
      "12/12 [==============================] - 0s 4ms/step - loss: 0.0905 - accuracy: 0.9685 - val_loss: 0.0899 - val_accuracy: 0.9681\n",
      "Epoch 41/500\n",
      "12/12 [==============================] - 0s 4ms/step - loss: 0.0932 - accuracy: 0.9764 - val_loss: 0.0886 - val_accuracy: 0.9734\n",
      "Epoch 42/500\n",
      "12/12 [==============================] - 0s 4ms/step - loss: 0.0859 - accuracy: 0.9738 - val_loss: 0.0853 - val_accuracy: 0.9787\n",
      "Epoch 43/500\n",
      "12/12 [==============================] - 0s 4ms/step - loss: 0.0883 - accuracy: 0.9816 - val_loss: 0.0871 - val_accuracy: 0.9734\n",
      "Epoch 44/500\n",
      "12/12 [==============================] - 0s 4ms/step - loss: 0.0834 - accuracy: 0.9790 - val_loss: 0.0825 - val_accuracy: 0.9840\n",
      "Epoch 45/500\n",
      "12/12 [==============================] - 0s 4ms/step - loss: 0.0816 - accuracy: 0.9816 - val_loss: 0.0841 - val_accuracy: 0.9734\n",
      "Epoch 46/500\n",
      "12/12 [==============================] - 0s 4ms/step - loss: 0.0790 - accuracy: 0.9843 - val_loss: 0.0797 - val_accuracy: 0.9787\n",
      "Epoch 47/500\n",
      "12/12 [==============================] - 0s 4ms/step - loss: 0.0807 - accuracy: 0.9764 - val_loss: 0.0815 - val_accuracy: 0.9734\n",
      "Epoch 48/500\n",
      "12/12 [==============================] - 0s 5ms/step - loss: 0.0772 - accuracy: 0.9816 - val_loss: 0.0799 - val_accuracy: 0.9734\n",
      "Epoch 49/500\n",
      "12/12 [==============================] - 0s 4ms/step - loss: 0.0771 - accuracy: 0.9790 - val_loss: 0.0756 - val_accuracy: 0.9840\n",
      "Epoch 50/500\n",
      "12/12 [==============================] - 0s 4ms/step - loss: 0.0771 - accuracy: 0.9895 - val_loss: 0.0759 - val_accuracy: 0.9787\n",
      "Epoch 51/500\n",
      "12/12 [==============================] - 0s 4ms/step - loss: 0.0741 - accuracy: 0.9790 - val_loss: 0.0731 - val_accuracy: 0.9840\n",
      "Epoch 52/500\n",
      "12/12 [==============================] - 0s 4ms/step - loss: 0.0746 - accuracy: 0.9843 - val_loss: 0.0798 - val_accuracy: 0.9681\n",
      "Epoch 53/500\n",
      "12/12 [==============================] - 0s 4ms/step - loss: 0.0724 - accuracy: 0.9843 - val_loss: 0.0719 - val_accuracy: 0.9840\n",
      "Epoch 54/500\n",
      "12/12 [==============================] - 0s 4ms/step - loss: 0.0699 - accuracy: 0.9843 - val_loss: 0.0742 - val_accuracy: 0.9734\n",
      "Epoch 55/500\n",
      "12/12 [==============================] - 0s 4ms/step - loss: 0.0692 - accuracy: 0.9843 - val_loss: 0.0717 - val_accuracy: 0.9787\n",
      "Epoch 56/500\n",
      "12/12 [==============================] - 0s 4ms/step - loss: 0.0682 - accuracy: 0.9869 - val_loss: 0.0691 - val_accuracy: 0.9840\n",
      "Epoch 57/500\n",
      "12/12 [==============================] - 0s 4ms/step - loss: 0.0671 - accuracy: 0.9869 - val_loss: 0.0682 - val_accuracy: 0.9840\n",
      "Epoch 58/500\n",
      "12/12 [==============================] - 0s 4ms/step - loss: 0.0670 - accuracy: 0.9869 - val_loss: 0.0671 - val_accuracy: 0.9840\n"
     ]
    },
    {
     "name": "stdout",
     "output_type": "stream",
     "text": [
      "Epoch 59/500\n",
      "12/12 [==============================] - 0s 4ms/step - loss: 0.0683 - accuracy: 0.9843 - val_loss: 0.0695 - val_accuracy: 0.9787\n",
      "Epoch 60/500\n",
      "12/12 [==============================] - 0s 4ms/step - loss: 0.0674 - accuracy: 0.9816 - val_loss: 0.0663 - val_accuracy: 0.9787\n",
      "Epoch 61/500\n",
      "12/12 [==============================] - 0s 4ms/step - loss: 0.0648 - accuracy: 0.9843 - val_loss: 0.0655 - val_accuracy: 0.9787\n",
      "Epoch 62/500\n",
      "12/12 [==============================] - 0s 4ms/step - loss: 0.0656 - accuracy: 0.9869 - val_loss: 0.0643 - val_accuracy: 0.9840\n",
      "Epoch 63/500\n",
      "12/12 [==============================] - 0s 4ms/step - loss: 0.0636 - accuracy: 0.9895 - val_loss: 0.0674 - val_accuracy: 0.9787\n",
      "Epoch 64/500\n",
      "12/12 [==============================] - 0s 4ms/step - loss: 0.0624 - accuracy: 0.9869 - val_loss: 0.0623 - val_accuracy: 0.9840\n",
      "Epoch 65/500\n",
      "12/12 [==============================] - 0s 4ms/step - loss: 0.0634 - accuracy: 0.9869 - val_loss: 0.0640 - val_accuracy: 0.9787\n",
      "Epoch 66/500\n",
      "12/12 [==============================] - 0s 4ms/step - loss: 0.0613 - accuracy: 0.9869 - val_loss: 0.0636 - val_accuracy: 0.9787\n",
      "Epoch 67/500\n",
      "12/12 [==============================] - 0s 4ms/step - loss: 0.0599 - accuracy: 0.9869 - val_loss: 0.0635 - val_accuracy: 0.9787\n",
      "Epoch 68/500\n",
      "12/12 [==============================] - 0s 4ms/step - loss: 0.0614 - accuracy: 0.9869 - val_loss: 0.0607 - val_accuracy: 0.9840\n",
      "Epoch 69/500\n",
      "12/12 [==============================] - 0s 4ms/step - loss: 0.0581 - accuracy: 0.9895 - val_loss: 0.0640 - val_accuracy: 0.9734\n",
      "Epoch 70/500\n",
      "12/12 [==============================] - 0s 4ms/step - loss: 0.0586 - accuracy: 0.9921 - val_loss: 0.0585 - val_accuracy: 0.9840\n",
      "Epoch 71/500\n",
      "12/12 [==============================] - 0s 4ms/step - loss: 0.0598 - accuracy: 0.9869 - val_loss: 0.0609 - val_accuracy: 0.9787\n",
      "Epoch 72/500\n",
      "12/12 [==============================] - 0s 4ms/step - loss: 0.0567 - accuracy: 0.9921 - val_loss: 0.0587 - val_accuracy: 0.9840\n",
      "Epoch 73/500\n",
      "12/12 [==============================] - 0s 4ms/step - loss: 0.0567 - accuracy: 0.9869 - val_loss: 0.0592 - val_accuracy: 0.9787\n",
      "Epoch 74/500\n",
      "12/12 [==============================] - 0s 4ms/step - loss: 0.0562 - accuracy: 0.9869 - val_loss: 0.0581 - val_accuracy: 0.9787\n",
      "Epoch 75/500\n",
      "12/12 [==============================] - 0s 4ms/step - loss: 0.0561 - accuracy: 0.9869 - val_loss: 0.0596 - val_accuracy: 0.9787\n",
      "Epoch 76/500\n",
      "12/12 [==============================] - 0s 4ms/step - loss: 0.0556 - accuracy: 0.9895 - val_loss: 0.0573 - val_accuracy: 0.9787\n",
      "Epoch 77/500\n",
      "12/12 [==============================] - 0s 4ms/step - loss: 0.0547 - accuracy: 0.9895 - val_loss: 0.0591 - val_accuracy: 0.9787\n",
      "Epoch 78/500\n",
      "12/12 [==============================] - 0s 4ms/step - loss: 0.0547 - accuracy: 0.9869 - val_loss: 0.0552 - val_accuracy: 0.9840\n",
      "Epoch 79/500\n",
      "12/12 [==============================] - 0s 4ms/step - loss: 0.0541 - accuracy: 0.9895 - val_loss: 0.0596 - val_accuracy: 0.9787\n",
      "Epoch 80/500\n",
      "12/12 [==============================] - 0s 4ms/step - loss: 0.0526 - accuracy: 0.9895 - val_loss: 0.0548 - val_accuracy: 0.9840\n",
      "Epoch 81/500\n",
      "12/12 [==============================] - 0s 4ms/step - loss: 0.0573 - accuracy: 0.9869 - val_loss: 0.0551 - val_accuracy: 0.9840\n",
      "Epoch 82/500\n",
      "12/12 [==============================] - 0s 4ms/step - loss: 0.0559 - accuracy: 0.9843 - val_loss: 0.0606 - val_accuracy: 0.9787\n",
      "Epoch 83/500\n",
      "12/12 [==============================] - 0s 4ms/step - loss: 0.0532 - accuracy: 0.9895 - val_loss: 0.0540 - val_accuracy: 0.9894\n",
      "Epoch 84/500\n",
      "12/12 [==============================] - 0s 4ms/step - loss: 0.0513 - accuracy: 0.9921 - val_loss: 0.0581 - val_accuracy: 0.9787\n",
      "Epoch 85/500\n",
      "12/12 [==============================] - 0s 4ms/step - loss: 0.0521 - accuracy: 0.9869 - val_loss: 0.0540 - val_accuracy: 0.9787\n",
      "Epoch 86/500\n",
      "12/12 [==============================] - 0s 4ms/step - loss: 0.0509 - accuracy: 0.9869 - val_loss: 0.0548 - val_accuracy: 0.9787\n",
      "Epoch 87/500\n",
      "12/12 [==============================] - 0s 4ms/step - loss: 0.0516 - accuracy: 0.9869 - val_loss: 0.0555 - val_accuracy: 0.9840\n",
      "Epoch 88/500\n",
      "12/12 [==============================] - 0s 4ms/step - loss: 0.0501 - accuracy: 0.9869 - val_loss: 0.0523 - val_accuracy: 0.9840\n",
      "Epoch 89/500\n",
      "12/12 [==============================] - 0s 4ms/step - loss: 0.0497 - accuracy: 0.9895 - val_loss: 0.0556 - val_accuracy: 0.9840\n",
      "Epoch 90/500\n",
      "12/12 [==============================] - 0s 4ms/step - loss: 0.0509 - accuracy: 0.9895 - val_loss: 0.0534 - val_accuracy: 0.9840\n",
      "Epoch 91/500\n",
      "12/12 [==============================] - 0s 4ms/step - loss: 0.0490 - accuracy: 0.9895 - val_loss: 0.0551 - val_accuracy: 0.9787\n",
      "Epoch 92/500\n",
      "12/12 [==============================] - 0s 4ms/step - loss: 0.0498 - accuracy: 0.9869 - val_loss: 0.0511 - val_accuracy: 0.9840\n",
      "Epoch 93/500\n",
      "12/12 [==============================] - 0s 4ms/step - loss: 0.0503 - accuracy: 0.9895 - val_loss: 0.0520 - val_accuracy: 0.9840\n",
      "Epoch 94/500\n",
      "12/12 [==============================] - 0s 4ms/step - loss: 0.0476 - accuracy: 0.9895 - val_loss: 0.0514 - val_accuracy: 0.9787\n",
      "Epoch 95/500\n",
      "12/12 [==============================] - 0s 4ms/step - loss: 0.0480 - accuracy: 0.9895 - val_loss: 0.0534 - val_accuracy: 0.9840\n",
      "Epoch 96/500\n",
      "12/12 [==============================] - 0s 4ms/step - loss: 0.0481 - accuracy: 0.9869 - val_loss: 0.0526 - val_accuracy: 0.9840\n",
      "Epoch 97/500\n",
      "12/12 [==============================] - 0s 4ms/step - loss: 0.0468 - accuracy: 0.9921 - val_loss: 0.0515 - val_accuracy: 0.9840\n",
      "Epoch 98/500\n",
      "12/12 [==============================] - 0s 4ms/step - loss: 0.0464 - accuracy: 0.9921 - val_loss: 0.0523 - val_accuracy: 0.9840\n",
      "Epoch 99/500\n",
      "12/12 [==============================] - 0s 4ms/step - loss: 0.0469 - accuracy: 0.9895 - val_loss: 0.0518 - val_accuracy: 0.9840\n",
      "Epoch 100/500\n",
      "12/12 [==============================] - 0s 4ms/step - loss: 0.0479 - accuracy: 0.9921 - val_loss: 0.0502 - val_accuracy: 0.9840\n",
      "Epoch 101/500\n",
      "12/12 [==============================] - 0s 4ms/step - loss: 0.0493 - accuracy: 0.9869 - val_loss: 0.0500 - val_accuracy: 0.9840\n",
      "Epoch 102/500\n",
      "12/12 [==============================] - 0s 4ms/step - loss: 0.0474 - accuracy: 0.9869 - val_loss: 0.0518 - val_accuracy: 0.9840\n",
      "Epoch 103/500\n",
      "12/12 [==============================] - 0s 4ms/step - loss: 0.0450 - accuracy: 0.9921 - val_loss: 0.0498 - val_accuracy: 0.9840\n",
      "Epoch 104/500\n",
      "12/12 [==============================] - 0s 4ms/step - loss: 0.0444 - accuracy: 0.9921 - val_loss: 0.0496 - val_accuracy: 0.9840\n",
      "Epoch 105/500\n",
      "12/12 [==============================] - 0s 4ms/step - loss: 0.0476 - accuracy: 0.9869 - val_loss: 0.0546 - val_accuracy: 0.9787\n",
      "Epoch 106/500\n",
      "12/12 [==============================] - 0s 4ms/step - loss: 0.0476 - accuracy: 0.9869 - val_loss: 0.0494 - val_accuracy: 0.9894\n",
      "Epoch 107/500\n",
      "12/12 [==============================] - 0s 4ms/step - loss: 0.0475 - accuracy: 0.9869 - val_loss: 0.0518 - val_accuracy: 0.9787\n",
      "Epoch 108/500\n",
      "12/12 [==============================] - 0s 4ms/step - loss: 0.0432 - accuracy: 0.9921 - val_loss: 0.0487 - val_accuracy: 0.9894\n",
      "Epoch 109/500\n",
      "12/12 [==============================] - 0s 4ms/step - loss: 0.0443 - accuracy: 0.9895 - val_loss: 0.0508 - val_accuracy: 0.9840\n",
      "Epoch 110/500\n",
      "12/12 [==============================] - 0s 4ms/step - loss: 0.0445 - accuracy: 0.9895 - val_loss: 0.0507 - val_accuracy: 0.9840\n",
      "Epoch 111/500\n",
      "12/12 [==============================] - 0s 4ms/step - loss: 0.0424 - accuracy: 0.9895 - val_loss: 0.0508 - val_accuracy: 0.9840\n",
      "Epoch 112/500\n",
      "12/12 [==============================] - 0s 5ms/step - loss: 0.0419 - accuracy: 0.9921 - val_loss: 0.0483 - val_accuracy: 0.9894\n",
      "Epoch 113/500\n",
      "12/12 [==============================] - 0s 4ms/step - loss: 0.0435 - accuracy: 0.9895 - val_loss: 0.0486 - val_accuracy: 0.9894\n",
      "Epoch 114/500\n",
      "12/12 [==============================] - 0s 4ms/step - loss: 0.0430 - accuracy: 0.9895 - val_loss: 0.0557 - val_accuracy: 0.9787\n",
      "Epoch 115/500\n",
      "12/12 [==============================] - 0s 4ms/step - loss: 0.0439 - accuracy: 0.9869 - val_loss: 0.0465 - val_accuracy: 0.9947\n",
      "Epoch 116/500\n"
     ]
    },
    {
     "name": "stdout",
     "output_type": "stream",
     "text": [
      "12/12 [==============================] - 0s 4ms/step - loss: 0.0485 - accuracy: 0.9869 - val_loss: 0.0502 - val_accuracy: 0.9840\n",
      "Epoch 117/500\n",
      "12/12 [==============================] - 0s 4ms/step - loss: 0.0412 - accuracy: 0.9921 - val_loss: 0.0461 - val_accuracy: 0.9947\n",
      "Epoch 118/500\n",
      "12/12 [==============================] - 0s 4ms/step - loss: 0.0412 - accuracy: 0.9921 - val_loss: 0.0511 - val_accuracy: 0.9787\n",
      "Epoch 119/500\n",
      "12/12 [==============================] - 0s 4ms/step - loss: 0.0413 - accuracy: 0.9895 - val_loss: 0.0512 - val_accuracy: 0.9787\n",
      "Epoch 120/500\n",
      "12/12 [==============================] - 0s 4ms/step - loss: 0.0428 - accuracy: 0.9895 - val_loss: 0.0461 - val_accuracy: 0.9894\n",
      "Epoch 121/500\n",
      "12/12 [==============================] - 0s 4ms/step - loss: 0.0405 - accuracy: 0.9921 - val_loss: 0.0559 - val_accuracy: 0.9787\n",
      "Epoch 122/500\n",
      "12/12 [==============================] - 0s 4ms/step - loss: 0.0439 - accuracy: 0.9869 - val_loss: 0.0453 - val_accuracy: 0.9947\n",
      "Epoch 123/500\n",
      "12/12 [==============================] - 0s 4ms/step - loss: 0.0418 - accuracy: 0.9895 - val_loss: 0.0563 - val_accuracy: 0.9787\n",
      "Epoch 124/500\n",
      "12/12 [==============================] - 0s 4ms/step - loss: 0.0395 - accuracy: 0.9895 - val_loss: 0.0468 - val_accuracy: 0.9894\n",
      "Epoch 125/500\n",
      "12/12 [==============================] - 0s 4ms/step - loss: 0.0391 - accuracy: 0.9921 - val_loss: 0.0490 - val_accuracy: 0.9894\n",
      "Epoch 126/500\n",
      "12/12 [==============================] - 0s 4ms/step - loss: 0.0391 - accuracy: 0.9921 - val_loss: 0.0470 - val_accuracy: 0.9894\n",
      "Epoch 127/500\n",
      "12/12 [==============================] - 0s 4ms/step - loss: 0.0396 - accuracy: 0.9921 - val_loss: 0.0498 - val_accuracy: 0.9840\n",
      "Epoch 128/500\n",
      "12/12 [==============================] - 0s 4ms/step - loss: 0.0393 - accuracy: 0.9921 - val_loss: 0.0475 - val_accuracy: 0.9894\n",
      "Epoch 129/500\n",
      "12/12 [==============================] - 0s 4ms/step - loss: 0.0419 - accuracy: 0.9869 - val_loss: 0.0464 - val_accuracy: 0.9894\n",
      "Epoch 130/500\n",
      "12/12 [==============================] - 0s 4ms/step - loss: 0.0458 - accuracy: 0.9869 - val_loss: 0.0529 - val_accuracy: 0.9787\n",
      "Epoch 131/500\n",
      "12/12 [==============================] - 0s 4ms/step - loss: 0.0417 - accuracy: 0.9869 - val_loss: 0.0558 - val_accuracy: 0.9787\n",
      "Epoch 132/500\n",
      "12/12 [==============================] - 0s 4ms/step - loss: 0.0376 - accuracy: 0.9895 - val_loss: 0.0459 - val_accuracy: 0.9947\n",
      "Epoch 133/500\n",
      "12/12 [==============================] - 0s 4ms/step - loss: 0.0380 - accuracy: 0.9921 - val_loss: 0.0483 - val_accuracy: 0.9894\n",
      "Epoch 134/500\n",
      "12/12 [==============================] - 0s 4ms/step - loss: 0.0369 - accuracy: 0.9921 - val_loss: 0.0497 - val_accuracy: 0.9840\n",
      "Epoch 135/500\n",
      "12/12 [==============================] - 0s 4ms/step - loss: 0.0376 - accuracy: 0.9895 - val_loss: 0.0468 - val_accuracy: 0.9894\n",
      "Epoch 136/500\n",
      "12/12 [==============================] - 0s 4ms/step - loss: 0.0388 - accuracy: 0.9921 - val_loss: 0.0461 - val_accuracy: 0.9894\n",
      "Epoch 137/500\n",
      "12/12 [==============================] - 0s 4ms/step - loss: 0.0386 - accuracy: 0.9895 - val_loss: 0.0538 - val_accuracy: 0.9787\n"
     ]
    },
    {
     "data": {
      "text/plain": [
       "<keras.callbacks.History at 0x1727fa739d0>"
      ]
     },
     "execution_count": 44,
     "metadata": {},
     "output_type": "execute_result"
    }
   ],
   "source": [
    "model.fit(X_train,y_train,callbacks= stopping, epochs= 500,validation_data=(X_test,y_test))"
   ]
  },
  {
   "cell_type": "code",
   "execution_count": 45,
   "metadata": {},
   "outputs": [],
   "source": [
    "history = model.history.history"
   ]
  },
  {
   "cell_type": "code",
   "execution_count": 47,
   "metadata": {},
   "outputs": [
    {
     "data": {
      "text/plain": [
       "<AxesSubplot:>"
      ]
     },
     "execution_count": 47,
     "metadata": {},
     "output_type": "execute_result"
    },
    {
     "data": {
      "image/png": "[encoded data removed]",
      "text/plain": [
       "<Figure size 432x288 with 1 Axes>"
      ]
     },
     "metadata": {
      "needs_background": "light"
     },
     "output_type": "display_data"
    }
   ],
   "source": [
    "pd.DataFrame(history).plot()"
   ]
  },
  {
   "cell_type": "code",
   "execution_count": 49,
   "metadata": {},
   "outputs": [
    {
     "name": "stdout",
     "output_type": "stream",
     "text": [
      "6/6 [==============================] - 0s 2ms/step - loss: 0.0538 - accuracy: 0.9787\n"
     ]
    },
    {
     "data": {
      "text/plain": [
       "[0.05381398648023605, 0.978723406791687]"
      ]
     },
     "execution_count": 49,
     "metadata": {},
     "output_type": "execute_result"
    }
   ],
   "source": [
    "model.evaluate(X_test,y_test)"
   ]
  },
  {
   "cell_type": "markdown",
   "metadata": {},
   "source": [
    "# SKLEARN - MLP "
   ]
  },
  {
   "cell_type": "code",
   "execution_count": 51,
   "metadata": {},
   "outputs": [],
   "source": [
    "from sklearn.neural_network import MLPClassifier"
   ]
  },
  {
   "cell_type": "code",
   "execution_count": 54,
   "metadata": {},
   "outputs": [],
   "source": [
    "model_sk = MLPClassifier(hidden_layer_sizes=30,activation=\"relu\",solver=\"adam\",max_iter=500,early_stopping=True,n_iter_no_change=15)"
   ]
  },
  {
   "cell_type": "code",
   "execution_count": 55,
   "metadata": {},
   "outputs": [
    {
     "data": {
      "text/plain": [
       "MLPClassifier(early_stopping=True, hidden_layer_sizes=30, max_iter=500,\n",
       "              n_iter_no_change=15)"
      ]
     },
     "execution_count": 55,
     "metadata": {},
     "output_type": "execute_result"
    }
   ],
   "source": [
    "model_sk.fit(X_train,y_train)"
   ]
  },
  {
   "cell_type": "code",
   "execution_count": 59,
   "metadata": {},
   "outputs": [
    {
     "data": {
      "text/plain": [
       "0.8974358974358975"
      ]
     },
     "execution_count": 59,
     "metadata": {},
     "output_type": "execute_result"
    }
   ],
   "source": [
    "model_sk.best_validation_score_"
   ]
  },
  {
   "cell_type": "code",
   "execution_count": 62,
   "metadata": {},
   "outputs": [
    {
     "data": {
      "text/plain": [
       "25"
      ]
     },
     "execution_count": 62,
     "metadata": {},
     "output_type": "execute_result"
    }
   ],
   "source": [
    "model_sk.n_iter_"
   ]
  },
  {
   "cell_type": "code",
   "execution_count": 60,
   "metadata": {},
   "outputs": [
    {
     "data": {
      "text/plain": [
       "0.9308510638297872"
      ]
     },
     "execution_count": 60,
     "metadata": {},
     "output_type": "execute_result"
    }
   ],
   "source": [
    "model_sk.score(X_test,y_test)"
   ]
  },
  {
   "cell_type": "code",
   "execution_count": null,
   "metadata": {},
   "outputs": [],
   "source": []
  }
 ],
 "metadata": {
  "kernelspec": {
   "display_name": "Python 3",
   "language": "python",
   "name": "python3"
  },
  "language_info": {
   "codemirror_mode": {
    "name": "ipython",
    "version": 3
   },
   "file_extension": ".py",
   "mimetype": "text/x-python",
   "name": "python",
   "nbconvert_exporter": "python",
   "pygments_lexer": "ipython3",
   "version": "3.8.5"
  }
 },
 "nbformat": 4,
 "nbformat_minor": 4
}
